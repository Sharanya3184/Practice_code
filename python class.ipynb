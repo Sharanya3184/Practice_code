{
 "cells": [
  {
   "cell_type": "code",
   "execution_count": 1,
   "id": "d8aead19-938a-4e44-a8b9-da0decab05fd",
   "metadata": {},
   "outputs": [
    {
     "name": "stdout",
     "output_type": "stream",
     "text": [
      "7\n",
      "8\n",
      "4\n",
      "[1, 3, (7, 8, 4), 9, 5]\n"
     ]
    }
   ],
   "source": [
    "#nested list with get method \n",
    "\n",
    "t=[1,2,3,(7,8,4) ,9,5]\n",
    "data=t[3]\n",
    "print(data[0])\n",
    "print(data[1])\n",
    "print(t[3][2])\n",
    "t.remove(2)\n",
    "print(t)"
   ]
  },
  {
   "cell_type": "code",
   "execution_count": 29,
   "id": "d35e3ab7-b0cc-4435-9931-ea6a43ce4b57",
   "metadata": {},
   "outputs": [
    {
     "name": "stdout",
     "output_type": "stream",
     "text": [
      "Nested Set: {frozenset({1, 2, 3}), frozenset({4, 5, 6}), frozenset({8, 9, 7})}\n",
      "Inner Set: {1, 2, 3}\n",
      "Inner Set: {4, 5, 6}\n",
      "Inner Set: {8, 9, 7}\n"
     ]
    }
   ],
   "source": [
    "# Create frozensets (immutable sets)\n",
    "s1 = frozenset([1, 2, 3])\n",
    "s2 = frozenset([4, 5, 6])\n",
    "s3 = frozenset([7, 8, 9])\n",
    "\n",
    "# Create a set containing frozensets (nested set)\n",
    "nested_set = {s1, s2, s3}\n",
    "\n",
    "# Print the nested set\n",
    "print(\"Nested Set:\", nested_set)\n",
    "\n",
    "# Access each frozenset and print its contents\n",
    "for item in nested_set:\n",
    "    print(\"Inner Set:\", set(item))  # Convert frozenset to normal set for display\n"
   ]
  },
  {
   "cell_type": "code",
   "execution_count": 33,
   "id": "368b0699-840d-440c-ab83-a3a17ebcc049",
   "metadata": {},
   "outputs": [
    {
     "name": "stdout",
     "output_type": "stream",
     "text": [
      "it is an odd number\n"
     ]
    }
   ],
   "source": [
    "#if else statement with operator\n",
    "a=10\n",
    "b=9\n",
    "if(a+b)%2==0:\n",
    "    print(\"it is even\")\n",
    "else:\n",
    "    print(\"it is an odd number\")"
   ]
  },
  {
   "cell_type": "code",
   "execution_count": 39,
   "id": "ceae2d1f-1956-4328-8df8-bd895fc32c64",
   "metadata": {},
   "outputs": [
    {
     "name": "stdin",
     "output_type": "stream",
     "text": [
      "Enter the value: 9\n"
     ]
    },
    {
     "name": "stdout",
     "output_type": "stream",
     "text": [
      "It is less tha 10\n"
     ]
    }
   ],
   "source": [
    "#If else statement\n",
    "\n",
    "x=int(input(\"Enter the value:\"))\n",
    "if x<=10:\n",
    "    print(\"It is less tha 10\")\n",
    "elif x==10:\n",
    "    print(\"It is equal\")\n",
    "else:\n",
    "    print(\"x is greater than 10\")\n",
    "    "
   ]
  },
  {
   "cell_type": "code",
   "execution_count": 3,
   "id": "6719c6a8-1904-4438-87f4-9917a5a6b4fd",
   "metadata": {},
   "outputs": [
    {
     "name": "stdout",
     "output_type": "stream",
     "text": [
      "This is a large list\n"
     ]
    }
   ],
   "source": [
    "#To check the datatype \n",
    "\n",
    "my_list=[1,2,3,4,9,7,45]\n",
    "if isinstance(my_list, list):\n",
    "    if len(my_list)<9:\n",
    "        print(\"This is a large list\")\n",
    "    else:\n",
    "        ('This is small list')"
   ]
  },
  {
   "cell_type": "code",
   "execution_count": 3,
   "id": "7e4da959-6d53-4f7b-b54e-8ff4484dbbc2",
   "metadata": {},
   "outputs": [
    {
     "name": "stdout",
     "output_type": "stream",
     "text": [
      "sharan\n",
      "name:sharan, age:20\n"
     ]
    }
   ],
   "source": [
    "#formated string using print new version of dot formated method)\n",
    "\n",
    "name=\"sharan\"\n",
    "age=20\n",
    "print(name)\n",
    "print(f'name:{name}, age:{age}')           "
   ]
  },
  {
   "cell_type": "code",
   "execution_count": 57,
   "id": "0c4b05dc-bf5e-4461-9242-4c15e0c92437",
   "metadata": {},
   "outputs": [
    {
     "name": "stdout",
     "output_type": "stream",
     "text": [
      "Hello, my name is Sharanya and I am 22 years old.\n"
     ]
    }
   ],
   "source": [
    "#%s for string and %d for integer\n",
    "\n",
    "name = \"Sharanya\"\n",
    "age = 22\n",
    "print(\"Hello, my name is %s and I am %d years old.\" % (name, age))\n"
   ]
  },
  {
   "cell_type": "code",
   "execution_count": 74,
   "id": "6297f1a3-4f45-4dcf-ae90-1c0a6bad6206",
   "metadata": {},
   "outputs": [
    {
     "name": "stdout",
     "output_type": "stream",
     "text": [
      "The difference of y:30 and x:20 is 10\n"
     ]
    }
   ],
   "source": [
    "\n",
    "\n",
    "x=20\n",
    "y=30\n",
    "result= f'The sum of x:{x} and y:{y} is {x+y}.' if x+y<40 else f'The difference of y:{y} and x:{x} is {y-x}'\n",
    "print(result)"
   ]
  },
  {
   "cell_type": "code",
   "execution_count": 53,
   "id": "b04e86e9-9a17-4efe-bc0e-804ce4d21105",
   "metadata": {},
   "outputs": [
    {
     "name": "stdout",
     "output_type": "stream",
     "text": [
      "My name is sharan and my age is 20 \n"
     ]
    }
   ],
   "source": [
    "#.format method(Old version of formated string)\n",
    "\n",
    "\n",
    "\n",
    "print(\"My name is {} and my age is {} \".format(name,age))"
   ]
  },
  {
   "cell_type": "code",
   "execution_count": null,
   "id": "a2c2a417-d31c-4081-885c-ccc43aaaaddb",
   "metadata": {},
   "outputs": [],
   "source": [
    "print(\"Name:\", name, \",Age:\", age)#muliple values printing \n"
   ]
  },
  {
   "cell_type": "code",
   "execution_count": 26,
   "id": "c5c8b7f5-34a9-4b05-9f30-e92b573c3ea4",
   "metadata": {},
   "outputs": [
    {
     "name": "stdout",
     "output_type": "stream",
     "text": [
      "name is :Sharanya,age:20\n"
     ]
    }
   ],
   "source": [
    "#string concadenate using print\n",
    "\n",
    "print('name is :' +name + \",\" 'age:' +str(age))"
   ]
  },
  {
   "cell_type": "code",
   "execution_count": 43,
   "id": "7c095d68-eb17-44c3-a9fc-2dc22255bdb8",
   "metadata": {},
   "outputs": [
    {
     "name": "stdout",
     "output_type": "stream",
     "text": [
      "1\n",
      "2\n",
      "3\n",
      "4\n",
      "5\n",
      "i:0 ,values:1\n",
      "i:1 ,values:2\n",
      "i:2 ,values:3\n",
      "i:3 ,values:4\n",
      "i:4 ,values:5\n"
     ]
    }
   ],
   "source": [
    "#length in for loop using print\n",
    "\n",
    "my_list =[1,2,3,4,5]\n",
    "for idx in my_list:\n",
    "    print(idx)\n",
    "    \n",
    "for idx in range(len(my_list)):\n",
    "    print(f'i:{idx} ,values:{my_list[idx]}')"
   ]
  },
  {
   "cell_type": "code",
   "execution_count": 15,
   "id": "ec840439-0a9e-418c-b09d-6204d08d9db8",
   "metadata": {},
   "outputs": [
    {
     "name": "stdout",
     "output_type": "stream",
     "text": [
      "i: 0, item: 1\n",
      "i: 1, item: 2\n",
      "i: 2, item: 3\n",
      "i: 3, item: 4\n",
      "i: 4, item: 5\n"
     ]
    }
   ],
   "source": [
    "#enumerate is used to find the index values in the code without using the length function we can print the index\n",
    "\n",
    "for idx, item in enumerate(my_list):\n",
    "    print(f'i: {idx}, item: {item}')\n"
   ]
  },
  {
   "cell_type": "code",
   "execution_count": 7,
   "id": "c595117f-4e8a-42d6-94d3-2cefcc5c65f0",
   "metadata": {},
   "outputs": [
    {
     "name": "stdout",
     "output_type": "stream",
     "text": [
      "color1: Green\n",
      "color2: red\n",
      "color3: white\n",
      "color4: black\n"
     ]
    }
   ],
   "source": [
    "'''example code'''\n",
    "\n",
    "color=[\"Green\",\"red\",\"white\",\"black\"]\n",
    "for i, color in enumerate(color, start=1):\n",
    "    print(f'color{i}: {color}')"
   ]
  },
  {
   "cell_type": "code",
   "execution_count": 8,
   "id": "dca69417-539d-4920-a0fb-ae280a09d0fd",
   "metadata": {},
   "outputs": [
    {
     "name": "stdout",
     "output_type": "stream",
     "text": [
      "[0, 1, 2, 3, 4, 5, 6, 7, 8, 9]\n"
     ]
    },
    {
     "data": {
      "text/plain": [
       "[0, 1, 2, 3, 4, 5, 6, 7, 8, 9]"
      ]
     },
     "execution_count": 8,
     "metadata": {},
     "output_type": "execute_result"
    }
   ],
   "source": [
    "#normal list code\n",
    "\n",
    "list_1=[]\n",
    "for i in range(10):\n",
    "    list_1.append(i)\n",
    "print(list_1)\n",
    "\n",
    "\n",
    "#list comprehension\n",
    "\n",
    "list_2=[x for x in range(10)]\n",
    "list_2"
   ]
  },
  {
   "cell_type": "code",
   "execution_count": 4,
   "id": "a5001c7e-1e58-4f25-90ea-c9b4820cdc3b",
   "metadata": {},
   "outputs": [
    {
     "data": {
      "text/plain": [
       "[0, 2, 4, 6, 8]"
      ]
     },
     "execution_count": 4,
     "metadata": {},
     "output_type": "execute_result"
    }
   ],
   "source": [
    "#list comprehension with if condition \n",
    "\n",
    "list_3 = [y for y in range(10)if y%2==0 ]\n",
    "list_3"
   ]
  },
  {
   "cell_type": "code",
   "execution_count": 8,
   "id": "003ce810-15aa-4c20-9a46-01b940b30c6c",
   "metadata": {},
   "outputs": [
    {
     "name": "stdin",
     "output_type": "stream",
     "text": [
      "Enter the name: SHARAN\n",
      "Enter the age: 20\n"
     ]
    },
    {
     "name": "stdout",
     "output_type": "stream",
     "text": [
      "My name is SHARAN and age is 20\n"
     ]
    }
   ],
   "source": [
    "'''PRACTICE CODE\n",
    "formated string'''\n",
    "\n",
    "\n",
    "\n",
    "name=input(\"Enter the name:\")\n",
    "age=int(input(\"Enter the age:\"))\n",
    "print(f'My name is {name} and age is {age}')\n",
    "        "
   ]
  },
  {
   "cell_type": "code",
   "execution_count": 14,
   "id": "96d86779-dfbc-49ba-87e8-b8f29fa6bd39",
   "metadata": {},
   "outputs": [
    {
     "name": "stdout",
     "output_type": "stream",
     "text": [
      " my name is SHARANYA\n",
      " my name is aynarahs\n"
     ]
    }
   ],
   "source": [
    "name=\"sharanya\"\n",
    "print(f' my name is {name.upper()}')\n",
    "print(f' my name is {name[::-1]}')\n",
    "\n"
   ]
  },
  {
   "cell_type": "code",
   "execution_count": 25,
   "id": "adca216b-5db0-43d5-af00-a8f347e8af54",
   "metadata": {},
   "outputs": [
    {
     "name": "stdin",
     "output_type": "stream",
     "text": [
      "enter the value: 23\n"
     ]
    },
    {
     "name": "stdout",
     "output_type": "stream",
     "text": [
      "23 it is an odd number\n"
     ]
    }
   ],
   "source": [
    "n=int(input(\"enter the value:\"))\n",
    "if n%2==0:\n",
    "    print(f'{n} is an even number')\n",
    "else:\n",
    "    print(f'{n} it is an odd number')"
   ]
  },
  {
   "cell_type": "code",
   "execution_count": 21,
   "id": "c631554e-aa58-4970-b2f6-5c57bef27d78",
   "metadata": {},
   "outputs": [
    {
     "data": {
      "text/plain": [
       "[23, 4, 5, 6, 78, 8, 15]"
      ]
     },
     "execution_count": 21,
     "metadata": {},
     "output_type": "execute_result"
    }
   ],
   "source": [
    "lists=[23,4,5,6,78,8]\n",
    "[lists.append(15) for i in range(1)]\n",
    "lists"
   ]
  },
  {
   "cell_type": "code",
   "execution_count": 25,
   "id": "e603b2c7-8137-41d3-88f6-36412bbe630b",
   "metadata": {},
   "outputs": [
    {
     "data": {
      "text/plain": [
       "[23, 4, 50, 5, 6, 78, 8]"
      ]
     },
     "execution_count": 25,
     "metadata": {},
     "output_type": "execute_result"
    }
   ],
   "source": [
    "lists=[23,4,5,6,78,8]\n",
    "[lists.insert(2,50) for i in range(1)]\n",
    "lists"
   ]
  },
  {
   "cell_type": "code",
   "execution_count": 32,
   "id": "391e6c83-948d-42dd-8be0-cfec7213868d",
   "metadata": {},
   "outputs": [
    {
     "data": {
      "text/plain": [
       "['HELLO WORLD']"
      ]
     },
     "execution_count": 32,
     "metadata": {},
     "output_type": "execute_result"
    }
   ],
   "source": [
    "word=[\"hello world\"]\n",
    "words=[words.upper() for words in word]\n",
    "words"
   ]
  },
  {
   "cell_type": "code",
   "execution_count": 42,
   "id": "be0fa388-9be4-4155-b94c-a3c28e798017",
   "metadata": {},
   "outputs": [
    {
     "name": "stdin",
     "output_type": "stream",
     "text": [
      "Enter the value: sharan\n"
     ]
    },
    {
     "name": "stdout",
     "output_type": "stream",
     "text": [
      "The letter is ['sharan'] and length is [6]\n"
     ]
    }
   ],
   "source": [
    "#list comprehension with fstring#\n",
    "\n",
    "\n",
    "n=input(\"Enter the value:\").split()\n",
    "lengths=[len(lengths) for lengths in n]\n",
    "print(f'The letter is {n} and length is {lengths}')"
   ]
  },
  {
   "cell_type": "code",
   "execution_count": 57,
   "id": "1a29e273-431f-4a66-88db-fe81295a8486",
   "metadata": {},
   "outputs": [
    {
     "name": "stdout",
     "output_type": "stream",
     "text": [
      "[67]\n"
     ]
    }
   ],
   "source": [
    "#To find the nested list in list comprehension#\n",
    "\n",
    "o=[2,3,5,[24,67,34],45,56]\n",
    "printed_67=[y for sublist in o if isinstance(sublist, list) for y in sublist if y==67]\n",
    "print(printed_67)"
   ]
  },
  {
   "cell_type": "code",
   "execution_count": 4,
   "id": "802eb3b2-a7d0-4266-a0eb-cf447dae8639",
   "metadata": {},
   "outputs": [
    {
     "name": "stdout",
     "output_type": "stream",
     "text": [
      "0\n",
      "1\n",
      "2\n",
      "3\n",
      "4\n"
     ]
    }
   ],
   "source": [
    "#break, continue,pass#\n",
    "\n",
    "for i in range(5):\n",
    "    if i==3:\n",
    "        pass\n",
    "    print(i)"
   ]
  },
  {
   "cell_type": "code",
   "execution_count": 7,
   "id": "c46f5967-3789-45b6-b81e-7eed720f5d1f",
   "metadata": {},
   "outputs": [
    {
     "name": "stdout",
     "output_type": "stream",
     "text": [
      "**sharan**\n",
      "sharan\n"
     ]
    }
   ],
   "source": [
    "var=\"sharan\"\n",
    "print(var.center(10,\"*\"))\n",
    "print(var)"
   ]
  },
  {
   "cell_type": "code",
   "execution_count": 12,
   "id": "db4f617d-5342-40bf-9c41-89c55265ad9e",
   "metadata": {},
   "outputs": [
    {
     "name": "stdout",
     "output_type": "stream",
     "text": [
      "True\n"
     ]
    }
   ],
   "source": [
    "txt = \"\\n \\t\"\n",
    "\n",
    "x = txt.isspace()\n",
    "\n",
    "print(x)\n"
   ]
  },
  {
   "cell_type": "code",
   "execution_count": 5,
   "id": "7d45899b-5223-4494-a892-63b205003ae1",
   "metadata": {},
   "outputs": [
    {
     "name": "stdout",
     "output_type": "stream",
     "text": [
      "True\n"
     ]
    }
   ],
   "source": [
    "x = 10\n",
    "print(isinstance(x, int))"
   ]
  },
  {
   "cell_type": "code",
   "execution_count": 18,
   "id": "f2d272c6-d677-4a19-bb3f-ca76fc41c7b7",
   "metadata": {},
   "outputs": [
    {
     "name": "stdin",
     "output_type": "stream",
     "text": [
      "Enter the value (e.g., [1, 2, 3, [4, 5, [6, 7]]]):  [1, 2, 3, [4, 5, [6, 7]]]\n"
     ]
    },
    {
     "name": "stdout",
     "output_type": "stream",
     "text": [
      "user[3][0] 4 is got it\n"
     ]
    }
   ],
   "source": [
    "try:\n",
    "    user = eval(input(\"Enter the value (e.g., [1, 2, 3, [4, 5, [6, 7]]]): \"))\n",
    "    \n",
    "    if isinstance(user, list) and 4 in user[3]:\n",
    "        print(\"user[3][0] 4 is got it\")\n",
    "    else:\n",
    "        print(\"Not a valid nested list.\")\n",
    "except:\n",
    "    print(\"Error: Please enter the list in correct format.\")\n"
   ]
  },
  {
   "cell_type": "code",
   "execution_count": null,
   "id": "11d453df-67fd-49f7-9609-309f16ed7f65",
   "metadata": {},
   "outputs": [],
   "source": []
  }
 ],
 "metadata": {
  "kernelspec": {
   "display_name": "Python 3 (ipykernel)",
   "language": "python",
   "name": "python3"
  },
  "language_info": {
   "codemirror_mode": {
    "name": "ipython",
    "version": 3
   },
   "file_extension": ".py",
   "mimetype": "text/x-python",
   "name": "python",
   "nbconvert_exporter": "python",
   "pygments_lexer": "ipython3",
   "version": "3.12.9"
  }
 },
 "nbformat": 4,
 "nbformat_minor": 5
}
