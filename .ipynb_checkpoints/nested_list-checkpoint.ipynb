{
 "cells": [
  {
   "cell_type": "code",
   "execution_count": null,
   "id": "cdbd923c-1d76-4c9d-97d1-26790820d1b5",
   "metadata": {},
   "outputs": [],
   "source": [
    "user = eval(input(\"Enter the value: \"))\n",
    "\n",
    "if 6 in user[3]:  \n",
    "    print(user[3])\n",
    "elif 8 in user[3][2]:  \n",
    "    print(user[3][2])\n",
    "elif 3 == user[2]:  \n",
    "    print(user[3][2][0])\n",
    "else:\n",
    "    print(\"not found\")"
   ]
  }
 ],
 "metadata": {
  "kernelspec": {
   "display_name": "Python 3 (ipykernel)",
   "language": "python",
   "name": "python3"
  },
  "language_info": {
   "codemirror_mode": {
    "name": "ipython",
    "version": 3
   },
   "file_extension": ".py",
   "mimetype": "text/x-python",
   "name": "python",
   "nbconvert_exporter": "python",
   "pygments_lexer": "ipython3",
   "version": "3.12.9"
  }
 },
 "nbformat": 4,
 "nbformat_minor": 5
}
